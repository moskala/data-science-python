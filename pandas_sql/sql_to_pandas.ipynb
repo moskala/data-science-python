{
 "cells": [
  {
   "cell_type": "markdown",
   "metadata": {},
   "source": [
    "# Praca domowa 2\n",
    "### Realizacja poleceń SQL w pakiecie pandas"
   ]
  },
  {
   "cell_type": "markdown",
   "metadata": {},
   "source": [
    "Rozwiązanie każdego zadania składa się się z 5 podpunktów:\n",
    "\n",
    "1. Słowna interpretacja zapytania\n",
    "2. Zapytanie w SQL\n",
    "3. Zapytanie w pandas\n",
    "4. Porównanie wyników\n",
    "5. Porównianie czasów wykonań zapytań"
   ]
  },
  {
   "cell_type": "markdown",
   "metadata": {},
   "source": [
    "Zaimportowanie niezbędnych bibliotek:"
   ]
  },
  {
   "cell_type": "code",
   "execution_count": 1,
   "metadata": {},
   "outputs": [],
   "source": [
    "import pandas as pd\n",
    "import numpy as np\n",
    "import os, os.path\n",
    "import sqlite3\n",
    "import tempfile\n",
    "from timeit import timeit"
   ]
  },
  {
   "cell_type": "markdown",
   "metadata": {},
   "source": [
    "Załadowanie zbiorów danych:"
   ]
  },
  {
   "cell_type": "code",
   "execution_count": 2,
   "metadata": {},
   "outputs": [],
   "source": [
    "Badges = pd.read_csv(\"travel_stackexchange_com/Badges.csv.gz\", compression = 'gzip')\n",
    "Comments = pd.read_csv(\"travel_stackexchange_com/Comments.csv.gz\", compression = 'gzip')\n",
    "PostLinks = pd.read_csv(\"travel_stackexchange_com/PostLinks.csv.gz\", compression = 'gzip')\n",
    "Posts = pd.read_csv(\"travel_stackexchange_com/Posts.csv.gz\", compression = 'gzip')\n",
    "Tags = pd.read_csv(\"travel_stackexchange_com/Tags.csv.gz\", compression = 'gzip')\n",
    "Users = pd.read_csv(\"travel_stackexchange_com/Users.csv.gz\", compression = 'gzip')\n",
    "Votes = pd.read_csv(\"travel_stackexchange_com/Votes.csv.gz\", compression = 'gzip')"
   ]
  },
  {
   "cell_type": "markdown",
   "metadata": {},
   "source": [
    "W celu sprawdzania wykonywanych poleceń, ramki danych są eksportowane do bazy danych SQLite:"
   ]
  },
  {
   "cell_type": "code",
   "execution_count": 3,
   "metadata": {},
   "outputs": [],
   "source": [
    "# sciezka dostępu do bazy danych\n",
    "baza = os.path.join(tempfile.mkdtemp(), 'baza.db')\n",
    "# połączenie do bazy danych\n",
    "conn = sqlite3.connect(baza) \n",
    "# eksportowanie ramek danych do bazy\n",
    "Badges.to_sql(\"Badges\", conn) \n",
    "Comments.to_sql(\"Comments\", conn)\n",
    "PostLinks.to_sql(\"PostLinks\", conn)\n",
    "Posts.to_sql(\"Posts\", conn)\n",
    "Tags.to_sql(\"Tags\", conn)\n",
    "Users.to_sql(\"Users\", conn)\n",
    "Votes.to_sql(\"Votes\", conn)"
   ]
  },
  {
   "cell_type": "markdown",
   "metadata": {},
   "source": [
    "## Zapytanie 1"
   ]
  },
  {
   "cell_type": "markdown",
   "metadata": {},
   "source": [
    "```sql\n",
    "SELECT Posts.Title, RelatedTab.NumLinks\n",
    "FROM\n",
    "    (SELECT RelatedPostId AS PostId, COUNT(*) AS NumLinks\n",
    "    FROM PostLinks\n",
    "    GROUP BY RelatedPostId) AS RelatedTab\n",
    "JOIN Posts ON RelatedTab.PostId=Posts.Id\n",
    "WHERE Posts.PostTypeId=1\n",
    "ORDER BY NumLinks DESC\n",
    "```"
   ]
  },
  {
   "cell_type": "markdown",
   "metadata": {},
   "source": [
    "### 1.1 Słowna interpretacja zapytania"
   ]
  },
  {
   "cell_type": "markdown",
   "metadata": {},
   "source": [
    "<!---\n",
    "Pogrupuj elementy z tabeli *PostLinks* po polu *RelatedPostId*. Dla każdej grupy zwróć wartość *PostId* która oznacza *RelatedPostId* dla danej grupy oraz ilość elementów grupy jako *NumLinks*. Otrzymaną tabelę oznacz jako *RelatedTab*. Następnie połącz ją z tabelą *Posts* względem pól *PostId* i *Id*. \n",
    "-->\n",
    "\n",
    "Należy wypisać tytuły postów z tabeli *Posts* o typie 1 i dla każdego wypisać ilość postów połączonych z nim poprzez zliczenie połączeń w tabeli *PostLinks*. "
   ]
  },
  {
   "cell_type": "markdown",
   "metadata": {},
   "source": [
    "### 1.2 Zapytanie w SQL"
   ]
  },
  {
   "cell_type": "markdown",
   "metadata": {},
   "source": [
    "Do wywoływania metody *read_sql_query* z pakietu pandas zdefiniujemy pomocniczą funkcję *get_sql_dataframe*, która przujmie zapytanie SQL i zwróci wynikową ramkę danych:"
   ]
  },
  {
   "cell_type": "code",
   "execution_count": 4,
   "metadata": {},
   "outputs": [],
   "source": [
    "def get_sql_dataframe(query):\n",
    "    return pd.read_sql_query(query, conn)"
   ]
  },
  {
   "cell_type": "code",
   "execution_count": 5,
   "metadata": {},
   "outputs": [],
   "source": [
    "query1 = \"\"\"\n",
    "SELECT Posts.Title, RelatedTab.NumLinks\n",
    "FROM\n",
    "    (SELECT RelatedPostId AS PostId, COUNT(*) AS NumLinks\n",
    "    FROM PostLinks\n",
    "    GROUP BY RelatedPostId) AS RelatedTab\n",
    "JOIN Posts ON RelatedTab.PostId=Posts.Id\n",
    "WHERE Posts.PostTypeId=1\n",
    "ORDER BY NumLinks DESC\n",
    "\"\"\""
   ]
  },
  {
   "cell_type": "code",
   "execution_count": 6,
   "metadata": {},
   "outputs": [],
   "source": [
    "sql_result1 = get_sql_dataframe(query1)"
   ]
  },
  {
   "cell_type": "markdown",
   "metadata": {},
   "source": [
    "### 1.3 Zapytanie w pandas"
   ]
  },
  {
   "cell_type": "code",
   "execution_count": 7,
   "metadata": {},
   "outputs": [],
   "source": [
    "def get_pandas_dataframe_1():\n",
    "    \"\"\"Funkcja realizująca zapytanie 1.\"\"\"\n",
    "    # Pogrupowanie elementów PostLinks i obliczenie ich ilość w każdej podgrupie, ustawienie nazw kolumn \n",
    "    RelatedTab = pd.DataFrame(PostLinks.groupby([\"RelatedPostId\"]).size(), columns=[\"NumLinks\"]).reset_index().rename(columns={\"RelatedPostId\": \"PostId\"})\n",
    "    # Połączenie tabeli RelatedTab z postami o typie==1 \n",
    "    join = RelatedTab.merge(Posts.loc[Posts['PostTypeId'] == 1,:], how=\"inner\", left_on=\"PostId\", right_on=\"Id\")\n",
    "    # Wybranie odpowiednich kolumn i posortowanie wyniku malejąco, reset indeksu\n",
    "    pd_result = join[[\"Title\", \"NumLinks\"]].sort_values(by=[\"NumLinks\"], ascending=False).reset_index(drop=True)\n",
    "    return pd_result\n",
    "\n",
    "# Wowłanie funkcji\n",
    "pd_result1 = get_pandas_dataframe_1()"
   ]
  },
  {
   "cell_type": "markdown",
   "metadata": {},
   "source": [
    "### 1.4 Porównanie wyników"
   ]
  },
  {
   "cell_type": "code",
   "execution_count": 8,
   "metadata": {},
   "outputs": [
    {
     "data": {
      "text/plain": [
       "False"
      ]
     },
     "execution_count": 8,
     "metadata": {},
     "output_type": "execute_result"
    }
   ],
   "source": [
    "sql_result1.equals(pd_result1)"
   ]
  },
  {
   "cell_type": "markdown",
   "metadata": {},
   "source": [
    "Pierwsze porównianie wyników zwraca wartość False, zatem zobaczmy jak wyglądają te dwie ramki danych:"
   ]
  },
  {
   "cell_type": "code",
   "execution_count": 9,
   "metadata": {},
   "outputs": [
    {
     "data": {
      "text/html": [
       "<div>\n",
       "<style scoped>\n",
       "    .dataframe tbody tr th:only-of-type {\n",
       "        vertical-align: middle;\n",
       "    }\n",
       "\n",
       "    .dataframe tbody tr th {\n",
       "        vertical-align: top;\n",
       "    }\n",
       "\n",
       "    .dataframe thead th {\n",
       "        text-align: right;\n",
       "    }\n",
       "</style>\n",
       "<table border=\"1\" class=\"dataframe\">\n",
       "  <thead>\n",
       "    <tr style=\"text-align: right;\">\n",
       "      <th></th>\n",
       "      <th>Title</th>\n",
       "      <th>NumLinks</th>\n",
       "    </tr>\n",
       "  </thead>\n",
       "  <tbody>\n",
       "    <tr>\n",
       "      <th>0</th>\n",
       "      <td>Is there a way to find out if I need a transit...</td>\n",
       "      <td>594</td>\n",
       "    </tr>\n",
       "    <tr>\n",
       "      <th>1</th>\n",
       "      <td>Do I need a visa to transit (or layover) in th...</td>\n",
       "      <td>585</td>\n",
       "    </tr>\n",
       "    <tr>\n",
       "      <th>2</th>\n",
       "      <td>Should my first trip be to the country which i...</td>\n",
       "      <td>331</td>\n",
       "    </tr>\n",
       "    <tr>\n",
       "      <th>3</th>\n",
       "      <td>Should I submit bank statements when applying ...</td>\n",
       "      <td>259</td>\n",
       "    </tr>\n",
       "    <tr>\n",
       "      <th>4</th>\n",
       "      <td>How much electronics and other valuables can I...</td>\n",
       "      <td>197</td>\n",
       "    </tr>\n",
       "    <tr>\n",
       "      <th>...</th>\n",
       "      <td>...</td>\n",
       "      <td>...</td>\n",
       "    </tr>\n",
       "    <tr>\n",
       "      <th>4867</th>\n",
       "      <td>Is Cairns the only direct destination from the...</td>\n",
       "      <td>1</td>\n",
       "    </tr>\n",
       "    <tr>\n",
       "      <th>4868</th>\n",
       "      <td>EasyJet - Is the return flight valid if I miss...</td>\n",
       "      <td>1</td>\n",
       "    </tr>\n",
       "    <tr>\n",
       "      <th>4869</th>\n",
       "      <td>Are CBP officers allowed to search and clone m...</td>\n",
       "      <td>1</td>\n",
       "    </tr>\n",
       "    <tr>\n",
       "      <th>4870</th>\n",
       "      <td>US B1/B2 VISA not approved</td>\n",
       "      <td>1</td>\n",
       "    </tr>\n",
       "    <tr>\n",
       "      <th>4871</th>\n",
       "      <td>If I visit Iran, is there a risk of not being ...</td>\n",
       "      <td>1</td>\n",
       "    </tr>\n",
       "  </tbody>\n",
       "</table>\n",
       "<p>4872 rows × 2 columns</p>\n",
       "</div>"
      ],
      "text/plain": [
       "                                                  Title  NumLinks\n",
       "0     Is there a way to find out if I need a transit...       594\n",
       "1     Do I need a visa to transit (or layover) in th...       585\n",
       "2     Should my first trip be to the country which i...       331\n",
       "3     Should I submit bank statements when applying ...       259\n",
       "4     How much electronics and other valuables can I...       197\n",
       "...                                                 ...       ...\n",
       "4867  Is Cairns the only direct destination from the...         1\n",
       "4868  EasyJet - Is the return flight valid if I miss...         1\n",
       "4869  Are CBP officers allowed to search and clone m...         1\n",
       "4870                         US B1/B2 VISA not approved         1\n",
       "4871  If I visit Iran, is there a risk of not being ...         1\n",
       "\n",
       "[4872 rows x 2 columns]"
      ]
     },
     "execution_count": 9,
     "metadata": {},
     "output_type": "execute_result"
    }
   ],
   "source": [
    "sql_result1"
   ]
  },
  {
   "cell_type": "code",
   "execution_count": 10,
   "metadata": {},
   "outputs": [
    {
     "data": {
      "text/html": [
       "<div>\n",
       "<style scoped>\n",
       "    .dataframe tbody tr th:only-of-type {\n",
       "        vertical-align: middle;\n",
       "    }\n",
       "\n",
       "    .dataframe tbody tr th {\n",
       "        vertical-align: top;\n",
       "    }\n",
       "\n",
       "    .dataframe thead th {\n",
       "        text-align: right;\n",
       "    }\n",
       "</style>\n",
       "<table border=\"1\" class=\"dataframe\">\n",
       "  <thead>\n",
       "    <tr style=\"text-align: right;\">\n",
       "      <th></th>\n",
       "      <th>Title</th>\n",
       "      <th>NumLinks</th>\n",
       "    </tr>\n",
       "  </thead>\n",
       "  <tbody>\n",
       "    <tr>\n",
       "      <th>0</th>\n",
       "      <td>Is there a way to find out if I need a transit...</td>\n",
       "      <td>594</td>\n",
       "    </tr>\n",
       "    <tr>\n",
       "      <th>1</th>\n",
       "      <td>Do I need a visa to transit (or layover) in th...</td>\n",
       "      <td>585</td>\n",
       "    </tr>\n",
       "    <tr>\n",
       "      <th>2</th>\n",
       "      <td>Should my first trip be to the country which i...</td>\n",
       "      <td>331</td>\n",
       "    </tr>\n",
       "    <tr>\n",
       "      <th>3</th>\n",
       "      <td>Should I submit bank statements when applying ...</td>\n",
       "      <td>259</td>\n",
       "    </tr>\n",
       "    <tr>\n",
       "      <th>4</th>\n",
       "      <td>How much electronics and other valuables can I...</td>\n",
       "      <td>197</td>\n",
       "    </tr>\n",
       "    <tr>\n",
       "      <th>...</th>\n",
       "      <td>...</td>\n",
       "      <td>...</td>\n",
       "    </tr>\n",
       "    <tr>\n",
       "      <th>4867</th>\n",
       "      <td>Good GPS device to tracking my travels?</td>\n",
       "      <td>1</td>\n",
       "    </tr>\n",
       "    <tr>\n",
       "      <th>4868</th>\n",
       "      <td>Why are flights with hotel bookings cheaper?</td>\n",
       "      <td>1</td>\n",
       "    </tr>\n",
       "    <tr>\n",
       "      <th>4869</th>\n",
       "      <td>Riding on a narrowboat in London</td>\n",
       "      <td>1</td>\n",
       "    </tr>\n",
       "    <tr>\n",
       "      <th>4870</th>\n",
       "      <td>How to get a UK visa while also travelling as ...</td>\n",
       "      <td>1</td>\n",
       "    </tr>\n",
       "    <tr>\n",
       "      <th>4871</th>\n",
       "      <td>Clearing Customs at Heathrow for a connecting ...</td>\n",
       "      <td>1</td>\n",
       "    </tr>\n",
       "  </tbody>\n",
       "</table>\n",
       "<p>4872 rows × 2 columns</p>\n",
       "</div>"
      ],
      "text/plain": [
       "                                                  Title  NumLinks\n",
       "0     Is there a way to find out if I need a transit...       594\n",
       "1     Do I need a visa to transit (or layover) in th...       585\n",
       "2     Should my first trip be to the country which i...       331\n",
       "3     Should I submit bank statements when applying ...       259\n",
       "4     How much electronics and other valuables can I...       197\n",
       "...                                                 ...       ...\n",
       "4867            Good GPS device to tracking my travels?         1\n",
       "4868       Why are flights with hotel bookings cheaper?         1\n",
       "4869                   Riding on a narrowboat in London         1\n",
       "4870  How to get a UK visa while also travelling as ...         1\n",
       "4871  Clearing Customs at Heathrow for a connecting ...         1\n",
       "\n",
       "[4872 rows x 2 columns]"
      ]
     },
     "execution_count": 10,
     "metadata": {},
     "output_type": "execute_result"
    }
   ],
   "source": [
    "pd_result1"
   ]
  },
  {
   "cell_type": "markdown",
   "metadata": {},
   "source": [
    "Jak widać, początkowe wartości wyników zapytań są takie same, ale dla takiej samej wartości NumLinks wiersze są w innej kolejności. "
   ]
  },
  {
   "cell_type": "code",
   "execution_count": 11,
   "metadata": {},
   "outputs": [
    {
     "data": {
      "text/plain": [
       "True"
      ]
     },
     "execution_count": 11,
     "metadata": {},
     "output_type": "execute_result"
    }
   ],
   "source": [
    "# Porównianie czy unikalne wartości w kolumnach NumLinks są sobie równe\n",
    "(pd_result1[\"NumLinks\"].unique() == sql_result1[\"NumLinks\"].unique()).all()"
   ]
  },
  {
   "cell_type": "code",
   "execution_count": 12,
   "metadata": {},
   "outputs": [
    {
     "data": {
      "text/plain": [
       "True"
      ]
     },
     "execution_count": 12,
     "metadata": {},
     "output_type": "execute_result"
    }
   ],
   "source": [
    "# Porównanie czy ramki danych mają tą samą liczbę wierszy\n",
    "pd_result1.shape[0] == sql_result1.shape[0]"
   ]
  },
  {
   "cell_type": "markdown",
   "metadata": {},
   "source": [
    "Z powyższych równości wynika, że wyniki mają taką samą liczbę wierszy oraz mają te same wartości w kolumnie NumLinks.\n",
    "Aby porównać ramki danych z dokładnością do różnej kolejności wierszy w danej podgrupie zdefiniujmy pomocniczą funkcję **check_equals_rows_disorder**:"
   ]
  },
  {
   "cell_type": "code",
   "execution_count": 13,
   "metadata": {},
   "outputs": [],
   "source": [
    "def check_equals_rows_disorder(df_sql, df2_pd, column_name):\n",
    "    \"\"\"\n",
    "    Funkcja sprawdza czy dwie ramki danych są równe z dokładnością do kolejności wierszy \n",
    "    względem wartości w kolumnie column_name.\n",
    "    \"\"\"\n",
    "    # Sprawdzenie czy kolumny zawierają te same unikalne wartości w tej samej kolejności\n",
    "    if not (df_sql[column_name].unique() == df2_pd[column_name].unique()).all():\n",
    "        print(\"Unikalne warotści kolumny {0} nie są równe\".format(column_name))\n",
    "        return False\n",
    "    \n",
    "    # Sprawdzenie czy ramki danych mają tą samą liczbę wierszy\n",
    "    if not (df_sql.shape[0] == df2_pd.shape[0]):\n",
    "        print(\"Podane ramki danych mają różną liczbę wierszy\")\n",
    "        return False\n",
    "    \n",
    "    # Przejście po każdej unikalnej wartości z kolumny\n",
    "    for param in df2_pd[column_name].unique():\n",
    "        # Wybranie podzbiorów z ramek dla danej wartości\n",
    "        df1 = df_sql.loc[df_sql[column_name] == param,:]\n",
    "        df2 = df2_pd.loc[df2_pd[column_name] == param,:]  \n",
    "        \n",
    "        # Posortowanie wartości w podramce po wszystkich kolumnach, zresetowanie indeksów\n",
    "        df11 = df1.sort_values(by=df1.columns.tolist()).reset_index(drop=True)\n",
    "        df22 = df2.sort_values(by=df2.columns.tolist()).reset_index(drop=True)\n",
    "        \n",
    "        # Porównanie wybranych fragmentów ramek danych\n",
    "        if not df11.equals(df22):\n",
    "            print(\"Wiersze nie są równe dla {0} = {1}\".format(column_name, param))\n",
    "            return False\n",
    "        \n",
    "    return True"
   ]
  },
  {
   "cell_type": "markdown",
   "metadata": {},
   "source": [
    "Następnie wywołajmy funkcję na porównywanych ramkach danych:"
   ]
  },
  {
   "cell_type": "code",
   "execution_count": 14,
   "metadata": {},
   "outputs": [
    {
     "data": {
      "text/plain": [
       "True"
      ]
     },
     "execution_count": 14,
     "metadata": {},
     "output_type": "execute_result"
    }
   ],
   "source": [
    "check_equals_rows_disorder(pd_result1, sql_result1, \"NumLinks\")"
   ]
  },
  {
   "cell_type": "markdown",
   "metadata": {},
   "source": [
    "Zwrócona wartość True oznacza, że ramka pd_result1 jest równa ramce sql_result1. Zatem wynik jest poprawny. "
   ]
  },
  {
   "cell_type": "markdown",
   "metadata": {},
   "source": [
    "### 1.5 Porównianie czasów wykonań zapytań"
   ]
  },
  {
   "cell_type": "markdown",
   "metadata": {},
   "source": [
    "Średni czas wykonania zapytania SQL dla 5 prób:"
   ]
  },
  {
   "cell_type": "code",
   "execution_count": 15,
   "metadata": {},
   "outputs": [
    {
     "data": {
      "text/plain": [
       "0.27830590000002076"
      ]
     },
     "execution_count": 15,
     "metadata": {},
     "output_type": "execute_result"
    }
   ],
   "source": [
    "timeit(lambda: get_sql_dataframe(query1), number=5)"
   ]
  },
  {
   "cell_type": "markdown",
   "metadata": {},
   "source": [
    "Średni czas wykonania zapytania za pomocą funkcji z pandas dla 5 prób:"
   ]
  },
  {
   "cell_type": "code",
   "execution_count": 16,
   "metadata": {},
   "outputs": [
    {
     "data": {
      "text/plain": [
       "0.2605282000000102"
      ]
     },
     "execution_count": 16,
     "metadata": {},
     "output_type": "execute_result"
    }
   ],
   "source": [
    "timeit(lambda: get_pandas_dataframe_1(), number=5)"
   ]
  },
  {
   "cell_type": "markdown",
   "metadata": {},
   "source": [
    "Widzimy, że średni czas wykonania zapytań jest lepszy dla funkcji z pakietu pandas."
   ]
  },
  {
   "cell_type": "markdown",
   "metadata": {},
   "source": [
    "# Zapytanie 2"
   ]
  },
  {
   "cell_type": "markdown",
   "metadata": {},
   "source": [
    "```sql\n",
    "SELECT\n",
    "    Users.DisplayName,\n",
    "    Users.Age,\n",
    "    Users.Location,\n",
    "    SUM(Posts.FavoriteCount) AS FavoriteTotal,\n",
    "    Posts.Title AS MostFavoriteQuestion,\n",
    "    MAX(Posts.FavoriteCount) AS MostFavoriteQuestionLikes\n",
    "FROM Posts\n",
    "JOIN Users ON Users.Id=Posts.OwnerUserId\n",
    "WHERE Posts.PostTypeId=1\n",
    "GROUP BY OwnerUserId\n",
    "ORDER BY FavoriteTotal DESC\n",
    "LIMIT 10\n",
    "\n",
    "```"
   ]
  },
  {
   "cell_type": "markdown",
   "metadata": {},
   "source": [
    "### 2.1 Słowna interpretacja zapytania"
   ]
  },
  {
   "cell_type": "markdown",
   "metadata": {},
   "source": [
    "<!---\n",
    "Z tabeli *Posts* wybierz tylko elementy o *PostTypeId* równym 1. Następnie pogrupuj elementy po id właściciela, czyli polu *OwnerUserId*. Dla każdej grupy oblicz sumę oraz maksymalną wartość *FavoriteCount*, oznacz je jako *FavoriteTotal* oraz *MostFavoriteQuestionLikes*. Dla wybranych postów dołącz tabelę *Users* tak aby id użytkownika zgadzało się z id właściciela posta. Z tabeli *Users* wybierz pola: *DisplayName*, *Age*, *Location*, a z tabeli *Posts* wybierz tytuł (ze zmienioną nazwą kolumny na *MostFavoriteQuestion*) oraz obliczone wcześniej kolumny *FavoriteTotal* oraz *MostFavoriteQuestionLikes*. Wyniki posortuj malejąco po polu *FavoriteTotal* i zwróć 10 pierwszych wyników. \n",
    "-->\n",
    "\n",
    "Należy stworzyć ranking 10 użytkowników którzy mają największą sumę *FavoriteCount* z postów których są właścicielami. Dla każdego takiego użytkownika należy wypisać jego wyświatlaną nazwę (*DisplayName*), wiek (*Age*), lokalizację (*Location*), obliczoną sumę *FavoriteCount* (jako *FavoriteTotal*), tytuł jego posta który miał największą wartość *FavoriteCount* (jako *MostFavoriteQuestion*) oraz ilość *FavoriteCount* dla tego posta (jako *MostFavoriteQuestionLikes*). \n"
   ]
  },
  {
   "cell_type": "markdown",
   "metadata": {},
   "source": [
    "### 2.2 Zapytanie w SQL"
   ]
  },
  {
   "cell_type": "code",
   "execution_count": 17,
   "metadata": {},
   "outputs": [],
   "source": [
    "query2 = \"\"\"\n",
    "SELECT\n",
    "    Users.DisplayName,\n",
    "    Users.Age,\n",
    "    Users.Location,\n",
    "    SUM(Posts.FavoriteCount) AS FavoriteTotal,\n",
    "    Posts.Title AS MostFavoriteQuestion,\n",
    "    MAX(Posts.FavoriteCount) AS MostFavoriteQuestionLikes\n",
    "FROM Posts\n",
    "JOIN Users ON Users.Id=Posts.OwnerUserId\n",
    "WHERE Posts.PostTypeId=1\n",
    "GROUP BY OwnerUserId\n",
    "ORDER BY FavoriteTotal DESC\n",
    "LIMIT 10\n",
    "\"\"\""
   ]
  },
  {
   "cell_type": "code",
   "execution_count": 18,
   "metadata": {},
   "outputs": [],
   "source": [
    "sql_result2 = get_sql_dataframe(query2)"
   ]
  },
  {
   "cell_type": "markdown",
   "metadata": {},
   "source": [
    "### 2.3 Zapytanie w pandas"
   ]
  },
  {
   "cell_type": "code",
   "execution_count": 19,
   "metadata": {},
   "outputs": [],
   "source": [
    "def get_pandas_dataframe_2():\n",
    "    \"\"\"Funkcja realizująca zapytanie 2.\"\"\"\n",
    "    # Wybranie postów o typie==1\n",
    "    posts_type1 = Posts.loc[Posts[\"PostTypeId\"] == 1, :]\n",
    "    # Pogrupowanie postów po id właściciela i obliczenie sumy oraz maksimum od FavoriteCount\n",
    "    aggr = posts_type1.groupby([\"OwnerUserId\"])['FavoriteCount'].agg([('FavoriteTotal', sum), ('MostFavoriteQuestionLikes', max)])\n",
    "    # Wybranie z postów potrzebnych kolumn\n",
    "    post_titles = posts_type1[[\"OwnerUserId\", \"Title\", \"FavoriteCount\"]]\n",
    "    # Połaczenie obliczonych wartości sum i max dla postów z  post_titles w celu dopasowania tytułów do najlepszych postów\n",
    "    join1 = post_titles.merge(aggr, left_on=[\"OwnerUserId\", \"FavoriteCount\"], right_on=[\"OwnerUserId\",\"MostFavoriteQuestionLikes\"])\n",
    "    # Połączenie postów z użytkownikami, którzy są ich właścicielami, reset indeksowania\n",
    "    join2 = join1.merge(Users[[\"Id\", \"DisplayName\", \"Age\", \"Location\"]], left_on=\"OwnerUserId\", right_on=\"Id\").reset_index()\n",
    "    # Zmiana nazw kolumn i wybranie kolumn w odpowiedniej kolejności\n",
    "    pd_result = join2.rename(columns={'Title': \"MostFavoriteQuestion\"})[[\"DisplayName\", \"Age\", \"Location\", \"FavoriteTotal\", \"MostFavoriteQuestion\", \"MostFavoriteQuestionLikes\"]]   \n",
    "    # Posortowanie wierszy malejąco po wartości FavoriteTotal i wybranie 10 pierwszych wyników\n",
    "    pd_result = pd_result.sort_values(by=[\"FavoriteTotal\"], ascending=False).head(10)\n",
    "    \n",
    "    return pd_result.reset_index(drop=True)\n",
    "\n",
    "# Wowłanie funkcji\n",
    "pd_result2 = get_pandas_dataframe_2()"
   ]
  },
  {
   "cell_type": "markdown",
   "metadata": {},
   "source": [
    "Otrzymana ramka danych funkcją get_pandas_dataframe_2():"
   ]
  },
  {
   "cell_type": "code",
   "execution_count": 20,
   "metadata": {},
   "outputs": [
    {
     "data": {
      "text/html": [
       "<div>\n",
       "<style scoped>\n",
       "    .dataframe tbody tr th:only-of-type {\n",
       "        vertical-align: middle;\n",
       "    }\n",
       "\n",
       "    .dataframe tbody tr th {\n",
       "        vertical-align: top;\n",
       "    }\n",
       "\n",
       "    .dataframe thead th {\n",
       "        text-align: right;\n",
       "    }\n",
       "</style>\n",
       "<table border=\"1\" class=\"dataframe\">\n",
       "  <thead>\n",
       "    <tr style=\"text-align: right;\">\n",
       "      <th></th>\n",
       "      <th>DisplayName</th>\n",
       "      <th>Age</th>\n",
       "      <th>Location</th>\n",
       "      <th>FavoriteTotal</th>\n",
       "      <th>MostFavoriteQuestion</th>\n",
       "      <th>MostFavoriteQuestionLikes</th>\n",
       "    </tr>\n",
       "  </thead>\n",
       "  <tbody>\n",
       "    <tr>\n",
       "      <th>0</th>\n",
       "      <td>Mark Mayo</td>\n",
       "      <td>37.0</td>\n",
       "      <td>Sydney, New South Wales, Australia</td>\n",
       "      <td>467.0</td>\n",
       "      <td>Tactics to avoid getting harassed by corrupt p...</td>\n",
       "      <td>42.0</td>\n",
       "    </tr>\n",
       "    <tr>\n",
       "      <th>1</th>\n",
       "      <td>hippietrail</td>\n",
       "      <td>NaN</td>\n",
       "      <td>Oaxaca, Mexico</td>\n",
       "      <td>444.0</td>\n",
       "      <td>OK we're all adults here, so really, how on ea...</td>\n",
       "      <td>79.0</td>\n",
       "    </tr>\n",
       "    <tr>\n",
       "      <th>2</th>\n",
       "      <td>RoflcoptrException</td>\n",
       "      <td>NaN</td>\n",
       "      <td>NaN</td>\n",
       "      <td>294.0</td>\n",
       "      <td>How to avoid drinking vodka?</td>\n",
       "      <td>29.0</td>\n",
       "    </tr>\n",
       "    <tr>\n",
       "      <th>3</th>\n",
       "      <td>JonathanReez</td>\n",
       "      <td>26.0</td>\n",
       "      <td>Prague, Czech Republic</td>\n",
       "      <td>221.0</td>\n",
       "      <td>What is the highest viewing spot in London tha...</td>\n",
       "      <td>17.0</td>\n",
       "    </tr>\n",
       "    <tr>\n",
       "      <th>4</th>\n",
       "      <td>nsn</td>\n",
       "      <td>NaN</td>\n",
       "      <td>NaN</td>\n",
       "      <td>214.0</td>\n",
       "      <td>How do airlines determine ticket prices?</td>\n",
       "      <td>40.0</td>\n",
       "    </tr>\n",
       "    <tr>\n",
       "      <th>5</th>\n",
       "      <td>Gagravarr</td>\n",
       "      <td>NaN</td>\n",
       "      <td>Oxford, United Kingdom</td>\n",
       "      <td>151.0</td>\n",
       "      <td>Are there other places with gardens like those...</td>\n",
       "      <td>10.0</td>\n",
       "    </tr>\n",
       "    <tr>\n",
       "      <th>6</th>\n",
       "      <td>Andrew Grimm</td>\n",
       "      <td>38.0</td>\n",
       "      <td>Sydney, Australia</td>\n",
       "      <td>120.0</td>\n",
       "      <td>OK we're all nerds here, so really, how on ear...</td>\n",
       "      <td>8.0</td>\n",
       "    </tr>\n",
       "    <tr>\n",
       "      <th>7</th>\n",
       "      <td>VMAtm</td>\n",
       "      <td>33.0</td>\n",
       "      <td>Tampa, FL, United States</td>\n",
       "      <td>109.0</td>\n",
       "      <td>Is there a good website to plan a trip via tra...</td>\n",
       "      <td>34.0</td>\n",
       "    </tr>\n",
       "    <tr>\n",
       "      <th>8</th>\n",
       "      <td>jrdioko</td>\n",
       "      <td>NaN</td>\n",
       "      <td>NaN</td>\n",
       "      <td>100.0</td>\n",
       "      <td>What is the most comfortable way to sleep on a...</td>\n",
       "      <td>21.0</td>\n",
       "    </tr>\n",
       "    <tr>\n",
       "      <th>9</th>\n",
       "      <td>Gayot Fow</td>\n",
       "      <td>NaN</td>\n",
       "      <td>London, United Kingdom</td>\n",
       "      <td>98.0</td>\n",
       "      <td>Should I submit bank statements when applying ...</td>\n",
       "      <td>18.0</td>\n",
       "    </tr>\n",
       "  </tbody>\n",
       "</table>\n",
       "</div>"
      ],
      "text/plain": [
       "          DisplayName   Age                            Location  \\\n",
       "0           Mark Mayo  37.0  Sydney, New South Wales, Australia   \n",
       "1         hippietrail   NaN                      Oaxaca, Mexico   \n",
       "2  RoflcoptrException   NaN                                 NaN   \n",
       "3        JonathanReez  26.0              Prague, Czech Republic   \n",
       "4                 nsn   NaN                                 NaN   \n",
       "5           Gagravarr   NaN              Oxford, United Kingdom   \n",
       "6        Andrew Grimm  38.0                   Sydney, Australia   \n",
       "7               VMAtm  33.0            Tampa, FL, United States   \n",
       "8             jrdioko   NaN                                 NaN   \n",
       "9           Gayot Fow   NaN              London, United Kingdom   \n",
       "\n",
       "   FavoriteTotal                               MostFavoriteQuestion  \\\n",
       "0          467.0  Tactics to avoid getting harassed by corrupt p...   \n",
       "1          444.0  OK we're all adults here, so really, how on ea...   \n",
       "2          294.0                       How to avoid drinking vodka?   \n",
       "3          221.0  What is the highest viewing spot in London tha...   \n",
       "4          214.0           How do airlines determine ticket prices?   \n",
       "5          151.0  Are there other places with gardens like those...   \n",
       "6          120.0  OK we're all nerds here, so really, how on ear...   \n",
       "7          109.0  Is there a good website to plan a trip via tra...   \n",
       "8          100.0  What is the most comfortable way to sleep on a...   \n",
       "9           98.0  Should I submit bank statements when applying ...   \n",
       "\n",
       "   MostFavoriteQuestionLikes  \n",
       "0                       42.0  \n",
       "1                       79.0  \n",
       "2                       29.0  \n",
       "3                       17.0  \n",
       "4                       40.0  \n",
       "5                       10.0  \n",
       "6                        8.0  \n",
       "7                       34.0  \n",
       "8                       21.0  \n",
       "9                       18.0  "
      ]
     },
     "execution_count": 20,
     "metadata": {},
     "output_type": "execute_result"
    }
   ],
   "source": [
    "pd_result2"
   ]
  },
  {
   "cell_type": "markdown",
   "metadata": {},
   "source": [
    "### 2.4 Porównanie wyników"
   ]
  },
  {
   "cell_type": "code",
   "execution_count": 21,
   "metadata": {},
   "outputs": [
    {
     "data": {
      "text/plain": [
       "True"
      ]
     },
     "execution_count": 21,
     "metadata": {},
     "output_type": "execute_result"
    }
   ],
   "source": [
    "pd_result2.equals(sql_result2)"
   ]
  },
  {
   "cell_type": "markdown",
   "metadata": {},
   "source": [
    "Porównianie za pomocą funkcji *equals* zwróciło True, zatem otrzymane ramki danych są równe.  "
   ]
  },
  {
   "cell_type": "markdown",
   "metadata": {},
   "source": [
    "### 2.5 Porównianie czasów wykonań zapytań"
   ]
  },
  {
   "cell_type": "markdown",
   "metadata": {},
   "source": [
    "Średni czas wykonania zapytania SQL dla 5 prób:"
   ]
  },
  {
   "cell_type": "code",
   "execution_count": 22,
   "metadata": {},
   "outputs": [
    {
     "data": {
      "text/plain": [
       "0.6439022000000136"
      ]
     },
     "execution_count": 22,
     "metadata": {},
     "output_type": "execute_result"
    }
   ],
   "source": [
    "timeit(lambda: get_sql_dataframe(query2), number=5)"
   ]
  },
  {
   "cell_type": "markdown",
   "metadata": {},
   "source": [
    "Średni czas wykonania zapytania za pomocą funkcji pandas dla 5 prób:"
   ]
  },
  {
   "cell_type": "code",
   "execution_count": 23,
   "metadata": {},
   "outputs": [
    {
     "data": {
      "text/plain": [
       "0.45353990000000977"
      ]
     },
     "execution_count": 23,
     "metadata": {},
     "output_type": "execute_result"
    }
   ],
   "source": [
    "timeit(lambda: get_pandas_dataframe_2(), number=5)"
   ]
  },
  {
   "cell_type": "markdown",
   "metadata": {},
   "source": [
    "W tym przypdadku również funkcja wykorzystująca metody z pakiety pandas ma lepszy średni czas wykonania."
   ]
  },
  {
   "cell_type": "markdown",
   "metadata": {},
   "source": [
    "# Zapytanie 3"
   ]
  },
  {
   "cell_type": "markdown",
   "metadata": {},
   "source": [
    "```sql\n",
    "SELECT\n",
    "    Posts.Title,\n",
    "    CmtTotScr.CommentsTotalScore\n",
    "FROM (\n",
    "    SELECT\n",
    "        PostID,\n",
    "        UserID,\n",
    "        SUM(Score) AS CommentsTotalScore\n",
    "    FROM Comments\n",
    "    GROUP BY PostID, UserID\n",
    ") AS CmtTotScr\n",
    "JOIN Posts ON Posts.ID=CmtTotScr.PostID AND Posts.OwnerUserId=CmtTotScr.UserID\n",
    "WHERE Posts.PostTypeId=1\n",
    "ORDER BY CmtTotScr.CommentsTotalScore DESC\n",
    "LIMIT 10\n",
    "```"
   ]
  },
  {
   "cell_type": "markdown",
   "metadata": {},
   "source": [
    "### 3.1 Słowna interpretacja zapytania"
   ]
  },
  {
   "cell_type": "markdown",
   "metadata": {},
   "source": [
    "Stworzenie rankingu 10 postów typu 1, które mają największą zsumowaną wartość *Score* dla komentarzy których autorem jest autor posta. Dla każdego z tych postów należy wypisać jego tytułu (*Title*) oraz zsumowaną liczbę *Score* (jako *CommentsTotalScore*). "
   ]
  },
  {
   "cell_type": "markdown",
   "metadata": {},
   "source": [
    "### 3.2 Zapytanie w SQL"
   ]
  },
  {
   "cell_type": "code",
   "execution_count": 24,
   "metadata": {},
   "outputs": [],
   "source": [
    "query3 = \"\"\"\n",
    "SELECT\n",
    "    Posts.Title,\n",
    "    CmtTotScr.CommentsTotalScore\n",
    "FROM (\n",
    "    SELECT\n",
    "        PostID,\n",
    "        UserID,\n",
    "        SUM(Score) AS CommentsTotalScore\n",
    "    FROM Comments\n",
    "    GROUP BY PostID, UserID\n",
    ") AS CmtTotScr\n",
    "JOIN Posts ON Posts.ID=CmtTotScr.PostID AND Posts.OwnerUserId=CmtTotScr.UserID\n",
    "WHERE Posts.PostTypeId=1\n",
    "ORDER BY CmtTotScr.CommentsTotalScore DESC\n",
    "LIMIT 10\n",
    "\n",
    "\"\"\""
   ]
  },
  {
   "cell_type": "code",
   "execution_count": 25,
   "metadata": {},
   "outputs": [],
   "source": [
    "sql_result3 = get_sql_dataframe(query3)"
   ]
  },
  {
   "cell_type": "markdown",
   "metadata": {},
   "source": [
    "### 3.3 Zapytanie w pandas"
   ]
  },
  {
   "cell_type": "code",
   "execution_count": 26,
   "metadata": {},
   "outputs": [],
   "source": [
    "def get_pandas_dataframe_3():\n",
    "    \"\"\"Funkcja realizująca zapytanie 3.\"\"\"\n",
    "    # Pogrupowanie komentarzy z Comments po PostId i UserId, obliczenie sumy po Score jako CommentsTotalScore\n",
    "    CmtTotScr = Comments.groupby([\"PostId\", \"UserId\"])[\"Score\"].agg([('CommentsTotalScore', sum)]).reset_index()\n",
    "    # Wybranie postów typu 1\n",
    "    posts_type1 = Posts.loc[Posts[\"PostTypeId\"] == 1, :]\n",
    "    # Połączenie komentarzy z postami po id postów i id userów \n",
    "    join = CmtTotScr.merge(posts_type1, left_on=[\"PostId\", \"UserId\"], right_on=[\"Id\", \"OwnerUserId\"])\n",
    "    # Wybranie odpowiednich kolumn i posortowanie wyniku malejąco po CommentsTotalScore, wybranie 10 pierwszych wierszy\n",
    "    pd_result = join[[\"Title\", \"CommentsTotalScore\"]].sort_values(by=[\"CommentsTotalScore\"], ascending=False).head(10)\n",
    "    return pd_result.reset_index(drop=True)\n",
    "\n",
    "# Wynik funkcji\n",
    "pd_result3 = get_pandas_dataframe_3()"
   ]
  },
  {
   "cell_type": "markdown",
   "metadata": {},
   "source": [
    "### 3.4 Porównanie wyników"
   ]
  },
  {
   "cell_type": "code",
   "execution_count": 27,
   "metadata": {},
   "outputs": [
    {
     "data": {
      "text/plain": [
       "False"
      ]
     },
     "execution_count": 27,
     "metadata": {},
     "output_type": "execute_result"
    }
   ],
   "source": [
    "sql_result3.equals(pd_result3)"
   ]
  },
  {
   "cell_type": "markdown",
   "metadata": {},
   "source": [
    "Pierwsze porównanie ramek danych zwraca False, zobaczmy więc jak one wyglądają:"
   ]
  },
  {
   "cell_type": "code",
   "execution_count": 28,
   "metadata": {},
   "outputs": [
    {
     "data": {
      "text/html": [
       "<div>\n",
       "<style scoped>\n",
       "    .dataframe tbody tr th:only-of-type {\n",
       "        vertical-align: middle;\n",
       "    }\n",
       "\n",
       "    .dataframe tbody tr th {\n",
       "        vertical-align: top;\n",
       "    }\n",
       "\n",
       "    .dataframe thead th {\n",
       "        text-align: right;\n",
       "    }\n",
       "</style>\n",
       "<table border=\"1\" class=\"dataframe\">\n",
       "  <thead>\n",
       "    <tr style=\"text-align: right;\">\n",
       "      <th></th>\n",
       "      <th>Title</th>\n",
       "      <th>CommentsTotalScore</th>\n",
       "    </tr>\n",
       "  </thead>\n",
       "  <tbody>\n",
       "    <tr>\n",
       "      <th>0</th>\n",
       "      <td>How to intentionally get denied entry to the U...</td>\n",
       "      <td>75</td>\n",
       "    </tr>\n",
       "    <tr>\n",
       "      <th>1</th>\n",
       "      <td>How can I deal with people asking to switch se...</td>\n",
       "      <td>32</td>\n",
       "    </tr>\n",
       "    <tr>\n",
       "      <th>2</th>\n",
       "      <td>What is France's traditional costume?</td>\n",
       "      <td>26</td>\n",
       "    </tr>\n",
       "    <tr>\n",
       "      <th>3</th>\n",
       "      <td>Can I have a watermelon in hand luggage?</td>\n",
       "      <td>25</td>\n",
       "    </tr>\n",
       "    <tr>\n",
       "      <th>4</th>\n",
       "      <td>How does President Trump's travel ban affect n...</td>\n",
       "      <td>25</td>\n",
       "    </tr>\n",
       "    <tr>\n",
       "      <th>5</th>\n",
       "      <td>What's the longest scheduled public bus ride i...</td>\n",
       "      <td>25</td>\n",
       "    </tr>\n",
       "    <tr>\n",
       "      <th>6</th>\n",
       "      <td>Caught speeding 111 Mph (179 km/h) in Californ...</td>\n",
       "      <td>24</td>\n",
       "    </tr>\n",
       "    <tr>\n",
       "      <th>7</th>\n",
       "      <td>Returning US Citizen lost passport in Canada</td>\n",
       "      <td>23</td>\n",
       "    </tr>\n",
       "    <tr>\n",
       "      <th>8</th>\n",
       "      <td>India just demonetized all Rs 500 &amp; 1000 notes...</td>\n",
       "      <td>20</td>\n",
       "    </tr>\n",
       "    <tr>\n",
       "      <th>9</th>\n",
       "      <td>Legalities and safety concerns of visiting pro...</td>\n",
       "      <td>20</td>\n",
       "    </tr>\n",
       "  </tbody>\n",
       "</table>\n",
       "</div>"
      ],
      "text/plain": [
       "                                               Title  CommentsTotalScore\n",
       "0  How to intentionally get denied entry to the U...                  75\n",
       "1  How can I deal with people asking to switch se...                  32\n",
       "2              What is France's traditional costume?                  26\n",
       "3           Can I have a watermelon in hand luggage?                  25\n",
       "4  How does President Trump's travel ban affect n...                  25\n",
       "5  What's the longest scheduled public bus ride i...                  25\n",
       "6  Caught speeding 111 Mph (179 km/h) in Californ...                  24\n",
       "7       Returning US Citizen lost passport in Canada                  23\n",
       "8  India just demonetized all Rs 500 & 1000 notes...                  20\n",
       "9  Legalities and safety concerns of visiting pro...                  20"
      ]
     },
     "execution_count": 28,
     "metadata": {},
     "output_type": "execute_result"
    }
   ],
   "source": [
    "pd_result3"
   ]
  },
  {
   "cell_type": "code",
   "execution_count": 29,
   "metadata": {},
   "outputs": [
    {
     "data": {
      "text/html": [
       "<div>\n",
       "<style scoped>\n",
       "    .dataframe tbody tr th:only-of-type {\n",
       "        vertical-align: middle;\n",
       "    }\n",
       "\n",
       "    .dataframe tbody tr th {\n",
       "        vertical-align: top;\n",
       "    }\n",
       "\n",
       "    .dataframe thead th {\n",
       "        text-align: right;\n",
       "    }\n",
       "</style>\n",
       "<table border=\"1\" class=\"dataframe\">\n",
       "  <thead>\n",
       "    <tr style=\"text-align: right;\">\n",
       "      <th></th>\n",
       "      <th>Title</th>\n",
       "      <th>CommentsTotalScore</th>\n",
       "    </tr>\n",
       "  </thead>\n",
       "  <tbody>\n",
       "    <tr>\n",
       "      <th>0</th>\n",
       "      <td>How to intentionally get denied entry to the U...</td>\n",
       "      <td>75</td>\n",
       "    </tr>\n",
       "    <tr>\n",
       "      <th>1</th>\n",
       "      <td>How can I deal with people asking to switch se...</td>\n",
       "      <td>32</td>\n",
       "    </tr>\n",
       "    <tr>\n",
       "      <th>2</th>\n",
       "      <td>What is France's traditional costume?</td>\n",
       "      <td>26</td>\n",
       "    </tr>\n",
       "    <tr>\n",
       "      <th>3</th>\n",
       "      <td>What's the longest scheduled public bus ride i...</td>\n",
       "      <td>25</td>\n",
       "    </tr>\n",
       "    <tr>\n",
       "      <th>4</th>\n",
       "      <td>Can I have a watermelon in hand luggage?</td>\n",
       "      <td>25</td>\n",
       "    </tr>\n",
       "    <tr>\n",
       "      <th>5</th>\n",
       "      <td>How does President Trump's travel ban affect n...</td>\n",
       "      <td>25</td>\n",
       "    </tr>\n",
       "    <tr>\n",
       "      <th>6</th>\n",
       "      <td>Caught speeding 111 Mph (179 km/h) in Californ...</td>\n",
       "      <td>24</td>\n",
       "    </tr>\n",
       "    <tr>\n",
       "      <th>7</th>\n",
       "      <td>Returning US Citizen lost passport in Canada</td>\n",
       "      <td>23</td>\n",
       "    </tr>\n",
       "    <tr>\n",
       "      <th>8</th>\n",
       "      <td>Legalities and safety concerns of visiting pro...</td>\n",
       "      <td>20</td>\n",
       "    </tr>\n",
       "    <tr>\n",
       "      <th>9</th>\n",
       "      <td>India just demonetized all Rs 500 &amp; 1000 notes...</td>\n",
       "      <td>20</td>\n",
       "    </tr>\n",
       "  </tbody>\n",
       "</table>\n",
       "</div>"
      ],
      "text/plain": [
       "                                               Title  CommentsTotalScore\n",
       "0  How to intentionally get denied entry to the U...                  75\n",
       "1  How can I deal with people asking to switch se...                  32\n",
       "2              What is France's traditional costume?                  26\n",
       "3  What's the longest scheduled public bus ride i...                  25\n",
       "4           Can I have a watermelon in hand luggage?                  25\n",
       "5  How does President Trump's travel ban affect n...                  25\n",
       "6  Caught speeding 111 Mph (179 km/h) in Californ...                  24\n",
       "7       Returning US Citizen lost passport in Canada                  23\n",
       "8  Legalities and safety concerns of visiting pro...                  20\n",
       "9  India just demonetized all Rs 500 & 1000 notes...                  20"
      ]
     },
     "execution_count": 29,
     "metadata": {},
     "output_type": "execute_result"
    }
   ],
   "source": [
    "sql_result3"
   ]
  },
  {
   "cell_type": "markdown",
   "metadata": {},
   "source": [
    "Łatwo zauważyć, że również jest to tylko problem permutacji wierszy w obrębie tej samej wartości *CommentsTotalScore*, zatem możemy znowu użyć funkcji *check_equals_rows_disorder*:"
   ]
  },
  {
   "cell_type": "code",
   "execution_count": 30,
   "metadata": {},
   "outputs": [
    {
     "data": {
      "text/plain": [
       "True"
      ]
     },
     "execution_count": 30,
     "metadata": {},
     "output_type": "execute_result"
    }
   ],
   "source": [
    "check_equals_rows_disorder(pd_result3, sql_result3, \"CommentsTotalScore\")"
   ]
  },
  {
   "cell_type": "markdown",
   "metadata": {},
   "source": [
    "Zwrócona wartość jest True, zatem zdefiniowana funkcja wywołująca metody z pakietu pandas jest poprawna."
   ]
  },
  {
   "cell_type": "markdown",
   "metadata": {},
   "source": [
    "### 3.5 Porównianie czasów wykonań zapytań"
   ]
  },
  {
   "cell_type": "markdown",
   "metadata": {},
   "source": [
    "Średni czas wykonania zapytania SQL dla 5 prób:"
   ]
  },
  {
   "cell_type": "code",
   "execution_count": 31,
   "metadata": {},
   "outputs": [
    {
     "data": {
      "text/plain": [
       "1.957180200000039"
      ]
     },
     "execution_count": 31,
     "metadata": {},
     "output_type": "execute_result"
    }
   ],
   "source": [
    "timeit(lambda: get_sql_dataframe(query3), number=5)"
   ]
  },
  {
   "cell_type": "markdown",
   "metadata": {},
   "source": [
    "Średni czas wykonania zapytania za pomocą funkcji pandas dla 5 prób:"
   ]
  },
  {
   "cell_type": "code",
   "execution_count": 32,
   "metadata": {},
   "outputs": [
    {
     "data": {
      "text/plain": [
       "0.9705718999999817"
      ]
     },
     "execution_count": 32,
     "metadata": {},
     "output_type": "execute_result"
    }
   ],
   "source": [
    "timeit(lambda: get_pandas_dataframe_3(), number=5)"
   ]
  },
  {
   "cell_type": "markdown",
   "metadata": {},
   "source": [
    "Średni czas wykonania zapytnia poprzez użycie metod z pakietu pandas jest dwukrotnie krótszy niż wywołanie *read_sql_query* dla tego przypadku. "
   ]
  },
  {
   "cell_type": "markdown",
   "metadata": {},
   "source": [
    "# Zapytanie 4"
   ]
  },
  {
   "cell_type": "markdown",
   "metadata": {},
   "source": [
    "```sql\n",
    "SELECT DISTINCT\n",
    "    Users.Id,\n",
    "    Users.DisplayName,\n",
    "    Users.Reputation,\n",
    "    Users.Age,\n",
    "    Users.Location\n",
    "FROM (\n",
    "    SELECT\n",
    "        Name, UserID\n",
    "    FROM Badges\n",
    "    WHERE Name IN (\n",
    "        SELECT\n",
    "        Name\n",
    "        FROM Badges\n",
    "        WHERE Class=1\n",
    "        GROUP BY Name\n",
    "        HAVING COUNT(*) BETWEEN 2 AND 10\n",
    "    )\n",
    "    AND Class=1\n",
    "    ) AS ValuableBadges\n",
    "JOIN Users ON ValuableBadges.UserId=Users.Id\n",
    "```"
   ]
  },
  {
   "cell_type": "markdown",
   "metadata": {},
   "source": [
    "### 4.1 Słowna interpretacja zapytania"
   ]
  },
  {
   "cell_type": "markdown",
   "metadata": {},
   "source": [
    "Wybranie użytkowników, którzy mają przypisane odznaki (*Badges*) spełniające następujące kryteria: są klasy 1 i mają pomiędzy 2 a 10 elementów w obrębie danej nazwy. Należy wypsać id użytkownika (*Id*), jego wyświetlaną nazwę (*DisplayName*), reputację (*Reputation*), wiek (*Age*) oraz lokalizację (*Location*)."
   ]
  },
  {
   "cell_type": "markdown",
   "metadata": {},
   "source": [
    "### 4.2 Zapytanie w SQL"
   ]
  },
  {
   "cell_type": "code",
   "execution_count": 33,
   "metadata": {},
   "outputs": [],
   "source": [
    "query4 = \"\"\"\n",
    "SELECT DISTINCT\n",
    "    Users.Id,\n",
    "    Users.DisplayName,\n",
    "    Users.Reputation,\n",
    "    Users.Age,\n",
    "    Users.Location\n",
    "FROM (\n",
    "    SELECT\n",
    "        Name, UserID\n",
    "    FROM Badges\n",
    "    WHERE Name IN (\n",
    "        SELECT\n",
    "        Name\n",
    "        FROM Badges\n",
    "        WHERE Class=1\n",
    "        GROUP BY Name\n",
    "        HAVING COUNT(*) BETWEEN 2 AND 10\n",
    "    )\n",
    "    AND Class=1\n",
    "    ) AS ValuableBadges\n",
    "JOIN Users ON ValuableBadges.UserId=Users.Id\n",
    "\"\"\""
   ]
  },
  {
   "cell_type": "code",
   "execution_count": 34,
   "metadata": {},
   "outputs": [],
   "source": [
    "sql_result4 = get_sql_dataframe(query4)"
   ]
  },
  {
   "cell_type": "markdown",
   "metadata": {},
   "source": [
    "### 4.3 Zapytanie w pandas"
   ]
  },
  {
   "cell_type": "code",
   "execution_count": 35,
   "metadata": {},
   "outputs": [],
   "source": [
    "def get_pandas_dataframe_4():\n",
    "    \"\"\"Funkcja realizująca zapytnie 4.\"\"\"\n",
    "    # Wybranie odznak klasy 1 z Badges\n",
    "    badges_class1 = Badges[Badges[\"Class\"]==1].reset_index()\n",
    "    # Pogrupowanie odznak po nazwie i obliczenie ich ilości w każdej podgrupie\n",
    "    badges_names = pd.DataFrame(badges_class1.groupby(\"Name\").size(), columns=[\"COUNT(*)\"]).reset_index()\n",
    "    # Wybranie odznak których ilość jest pomiędzy 2 a 10\n",
    "    badges_names = badges_names[(badges_names[\"COUNT(*)\"] >= 2) & (badges_names[\"COUNT(*)\"] <= 10)]\n",
    "    # Wybranie wierszy z badges_class1, których nazwa odznaki znajduje się w badges_names\n",
    "    ValuableBadges = badges_class1[badges_class1[\"Name\"].isin(badges_names[\"Name\"])][[\"Name\", \"UserId\"]].reset_index(drop=True)\n",
    "    # Wybranie potrzebnych kolumn z tabeli Users\n",
    "    users = Users[[\"Id\", \"DisplayName\", \"Reputation\", \"Age\", \"Location\"]]\n",
    "    # Połączenie ValuableBadges z Users po id użytkownika\n",
    "    join = ValuableBadges.merge(users, left_on=\"UserId\", right_on=\"Id\")\n",
    "    # Wybranie odpowiednich kolumn, usunięcie duplikatów\n",
    "    pd_result = join[[\"Id\", \"DisplayName\", \"Reputation\", \"Age\", \"Location\"]].drop_duplicates()\n",
    "    return pd_result.reset_index(drop=True)\n",
    "\n",
    "#Wynik funkcji\n",
    "pd_result4 = get_pandas_dataframe_4()"
   ]
  },
  {
   "cell_type": "markdown",
   "metadata": {},
   "source": [
    "### 4.4 Porównanie wyników"
   ]
  },
  {
   "cell_type": "code",
   "execution_count": 36,
   "metadata": {},
   "outputs": [
    {
     "data": {
      "text/plain": [
       "True"
      ]
     },
     "execution_count": 36,
     "metadata": {},
     "output_type": "execute_result"
    }
   ],
   "source": [
    "pd_result4.equals(sql_result4)"
   ]
  },
  {
   "cell_type": "markdown",
   "metadata": {},
   "source": [
    "Otrzymane ramki danych są równe."
   ]
  },
  {
   "cell_type": "markdown",
   "metadata": {},
   "source": [
    "### 4.5 Porównianie czasów wykonań zapytań"
   ]
  },
  {
   "cell_type": "markdown",
   "metadata": {},
   "source": [
    "Średni czas wykonania zapytania SQL dla 5 prób:"
   ]
  },
  {
   "cell_type": "code",
   "execution_count": 37,
   "metadata": {},
   "outputs": [
    {
     "data": {
      "text/plain": [
       "0.5195544999999697"
      ]
     },
     "execution_count": 37,
     "metadata": {},
     "output_type": "execute_result"
    }
   ],
   "source": [
    "timeit(lambda: get_sql_dataframe(query4), number=5)"
   ]
  },
  {
   "cell_type": "markdown",
   "metadata": {},
   "source": [
    "Średni czas wykonania zapytania za pomocą funkcji pandas dla 5 prób:"
   ]
  },
  {
   "cell_type": "code",
   "execution_count": 38,
   "metadata": {},
   "outputs": [
    {
     "data": {
      "text/plain": [
       "0.1560077999999976"
      ]
     },
     "execution_count": 38,
     "metadata": {},
     "output_type": "execute_result"
    }
   ],
   "source": [
    "timeit(lambda: get_pandas_dataframe_4(), number=5)"
   ]
  },
  {
   "cell_type": "markdown",
   "metadata": {},
   "source": [
    "Średni czas wykonania zapytania funkcją *get_pandas_dataframe_4* jest dużo krótszy niż wykonanie zapytania SQL."
   ]
  },
  {
   "cell_type": "markdown",
   "metadata": {},
   "source": [
    "# Zapytanie 5"
   ]
  },
  {
   "cell_type": "markdown",
   "metadata": {},
   "source": [
    "```sql\n",
    "SELECT\n",
    "    Questions.Id,\n",
    "    Questions.Title,\n",
    "    BestAnswers.MaxScore,\n",
    "    Posts.Score AS AcceptedScore,\n",
    "    BestAnswers.MaxScore-Posts.Score AS Difference\n",
    "FROM (\n",
    "        SELECT Id, ParentId, MAX(Score) AS MaxScore\n",
    "        FROM Posts\n",
    "        WHERE PostTypeId==2\n",
    "        GROUP BY ParentId\n",
    "    ) AS BestAnswers\n",
    "JOIN (\n",
    "        SELECT * FROM Posts\n",
    "        WHERE PostTypeId==1\n",
    "    ) AS Questions\n",
    "    ON Questions.Id=BestAnswers.ParentId\n",
    "JOIN Posts ON Questions.AcceptedAnswerId=Posts.Id\n",
    "WHERE Difference>50\n",
    "ORDER BY Difference DESC\n",
    "\n",
    "```"
   ]
  },
  {
   "cell_type": "markdown",
   "metadata": {},
   "source": [
    "### 5.1 Słowna interpretacja zapytania"
   ]
  },
  {
   "cell_type": "markdown",
   "metadata": {},
   "source": [
    "Wypisanie pytań dla których różnica pomiędzy wynikiem (*Score*) dla najlepszej odpowiedzi a zaakceptowanej odpowiedzi jest większa niż 50. Należy posortować malejąco pytania po tej różnicy i wypisać id pytania (*Id*), tytuł pytania (*Title*), maksymalny wynik dla udzielonych odpowiedzi do tego pytania (*MaxScore*), wynik zaakceptowanej odpowiedzi dla tego pytania (*AcceptedScore*) oraz różnicę pomiędzy dwoma poprzednimi (*Difference*). \n",
    "\n",
    "Pytania to posty typu 1, a odpowiedzi to posty typu 2. "
   ]
  },
  {
   "cell_type": "markdown",
   "metadata": {},
   "source": [
    "### 5.2 Zapytanie w SQL"
   ]
  },
  {
   "cell_type": "code",
   "execution_count": 39,
   "metadata": {},
   "outputs": [],
   "source": [
    "query5 = \"\"\"\n",
    "SELECT\n",
    "    Questions.Id,\n",
    "    Questions.Title,\n",
    "    BestAnswers.MaxScore,\n",
    "    Posts.Score AS AcceptedScore,\n",
    "    BestAnswers.MaxScore-Posts.Score AS Difference\n",
    "FROM (\n",
    "        SELECT Id, ParentId, MAX(Score) AS MaxScore\n",
    "        FROM Posts\n",
    "        WHERE PostTypeId==2\n",
    "        GROUP BY ParentId\n",
    "    ) AS BestAnswers\n",
    "JOIN (\n",
    "        SELECT * FROM Posts\n",
    "        WHERE PostTypeId==1\n",
    "    ) AS Questions\n",
    "    ON Questions.Id=BestAnswers.ParentId\n",
    "JOIN Posts ON Questions.AcceptedAnswerId=Posts.Id\n",
    "WHERE Difference>50\n",
    "ORDER BY Difference DESC\n",
    "\"\"\""
   ]
  },
  {
   "cell_type": "code",
   "execution_count": 40,
   "metadata": {},
   "outputs": [],
   "source": [
    "sql_result5 = get_sql_dataframe(query5)"
   ]
  },
  {
   "cell_type": "markdown",
   "metadata": {},
   "source": [
    "### 5.3 Zapytanie w pandas"
   ]
  },
  {
   "cell_type": "code",
   "execution_count": 41,
   "metadata": {},
   "outputs": [],
   "source": [
    "def get_pandas_dataframe_5():\n",
    "    \"\"\"Funkcja realizująca zapytnie 4.\"\"\"\n",
    "    # Wybranie postów o typie 2 czyli odpowiedzi\n",
    "    answers = Posts[Posts[\"PostTypeId\"]==2]\n",
    "    # Pogrupowanie odpowiedzi po ParentId i obliczenie maksimum z Score\n",
    "    BestAnswers = answers.groupby(\"ParentId\")[\"Score\"].agg([('MaxScore', max)])\n",
    "    # Połączenie BestAnswers z answers w celu dołączenia Id wybranych odpowiedzi\n",
    "    BestAnswers = BestAnswers.merge(answers, left_on=[\"ParentId\", \"MaxScore\"], right_on=[\"ParentId\", \"Score\"])\n",
    "    # Wybranie odpowiednich kolumn\n",
    "    BestAnswers = BestAnswers[[\"Id\", \"ParentId\", \"MaxScore\"]].reset_index(drop=True)\n",
    "    # Wybranie postów o typie 1 czyli pytań\n",
    "    Questions = Posts[Posts[\"PostTypeId\"]==1]\n",
    "    # Połączenie wybranych odpowiedzi z pytaniami\n",
    "    join1 = BestAnswers.merge(Questions, left_on=\"ParentId\", right_on=\"Id\", suffixes=(\"_ans\", \"_que\"))\n",
    "    # Połączenie pytań i odpowiedzi z postami na podstawie id zaakceptowanej odpowiedzi\n",
    "    join2 = join1.merge(Posts, left_on=\"AcceptedAnswerId\", right_on=\"Id\", suffixes=(\"_qa\", \"_posts\"))\n",
    "    # Obliczenie różnicy pomiędzy maksymalnym wynikiem, a wynikiem zaakceptowanej odpowiedzi\n",
    "    join2[\"Difference\"] = join2[\"MaxScore\"] - join2[\"Score_posts\"]\n",
    "    # Wybranie wierszy, dla których różnica jest większa niż 50\n",
    "    pd_result = join2[join2[\"Difference\"]>50]\n",
    "    # Wybranie odpowiednich kolumn i zmienienie odpowiednich nazw\n",
    "    pd_result = pd_result[[\"Id_que\", \"Title_qa\", \"MaxScore\", \"Score_posts\", \"Difference\"]].rename(columns={\n",
    "        \"Id_que\":\"Id\", \n",
    "        \"Title_qa\":\"Title\", \n",
    "        \"Score_posts\":\"AcceptedScore\"\n",
    "    })\n",
    "    # Posortowanie wierszy malejąco po Difference\n",
    "    pd_result = pd_result.sort_values(by=[\"Difference\"], ascending=False)\n",
    "    return pd_result.reset_index(drop=True)\n",
    "\n",
    "# Wynik funkcji\n",
    "pd_result5 = get_pandas_dataframe_5()"
   ]
  },
  {
   "cell_type": "markdown",
   "metadata": {},
   "source": [
    "### 5.4 Porównanie wyników"
   ]
  },
  {
   "cell_type": "code",
   "execution_count": 42,
   "metadata": {},
   "outputs": [
    {
     "data": {
      "text/plain": [
       "True"
      ]
     },
     "execution_count": 42,
     "metadata": {},
     "output_type": "execute_result"
    }
   ],
   "source": [
    "sql_result5.equals(pd_result5)"
   ]
  },
  {
   "cell_type": "markdown",
   "metadata": {},
   "source": [
    "Z powyższego wywołania funkcji *equals* wynika, że uzyskane ramki danych są sobie równe, czyli funkcja *get_pandas_dataframe_5* jest poprawna. "
   ]
  },
  {
   "cell_type": "markdown",
   "metadata": {},
   "source": [
    "Wynikowa ramka danych składa się tylko z 8 wierszy, więc możemy ją w całości wyświetlić: "
   ]
  },
  {
   "cell_type": "code",
   "execution_count": 43,
   "metadata": {},
   "outputs": [
    {
     "data": {
      "text/html": [
       "<div>\n",
       "<style scoped>\n",
       "    .dataframe tbody tr th:only-of-type {\n",
       "        vertical-align: middle;\n",
       "    }\n",
       "\n",
       "    .dataframe tbody tr th {\n",
       "        vertical-align: top;\n",
       "    }\n",
       "\n",
       "    .dataframe thead th {\n",
       "        text-align: right;\n",
       "    }\n",
       "</style>\n",
       "<table border=\"1\" class=\"dataframe\">\n",
       "  <thead>\n",
       "    <tr style=\"text-align: right;\">\n",
       "      <th></th>\n",
       "      <th>Id</th>\n",
       "      <th>Title</th>\n",
       "      <th>MaxScore</th>\n",
       "      <th>AcceptedScore</th>\n",
       "      <th>Difference</th>\n",
       "    </tr>\n",
       "  </thead>\n",
       "  <tbody>\n",
       "    <tr>\n",
       "      <th>0</th>\n",
       "      <td>99713</td>\n",
       "      <td>In Germany, what are you supposed to do if you...</td>\n",
       "      <td>126</td>\n",
       "      <td>33</td>\n",
       "      <td>93</td>\n",
       "    </tr>\n",
       "    <tr>\n",
       "      <th>1</th>\n",
       "      <td>81376</td>\n",
       "      <td>What is way to eat rice with hands in front of...</td>\n",
       "      <td>120</td>\n",
       "      <td>30</td>\n",
       "      <td>90</td>\n",
       "    </tr>\n",
       "    <tr>\n",
       "      <th>2</th>\n",
       "      <td>76737</td>\n",
       "      <td>Why do many countries in the world still requi...</td>\n",
       "      <td>118</td>\n",
       "      <td>31</td>\n",
       "      <td>87</td>\n",
       "    </tr>\n",
       "    <tr>\n",
       "      <th>3</th>\n",
       "      <td>38177</td>\n",
       "      <td>How do you know if Americans genuinely/literal...</td>\n",
       "      <td>245</td>\n",
       "      <td>166</td>\n",
       "      <td>79</td>\n",
       "    </tr>\n",
       "    <tr>\n",
       "      <th>4</th>\n",
       "      <td>90636</td>\n",
       "      <td>Caught speeding 111 Mph (179 km/h) in Californ...</td>\n",
       "      <td>101</td>\n",
       "      <td>25</td>\n",
       "      <td>76</td>\n",
       "    </tr>\n",
       "    <tr>\n",
       "      <th>5</th>\n",
       "      <td>81492</td>\n",
       "      <td>Why is international first class much more exp...</td>\n",
       "      <td>90</td>\n",
       "      <td>21</td>\n",
       "      <td>69</td>\n",
       "    </tr>\n",
       "    <tr>\n",
       "      <th>6</th>\n",
       "      <td>94320</td>\n",
       "      <td>Strange looking region of France on Google Maps</td>\n",
       "      <td>71</td>\n",
       "      <td>7</td>\n",
       "      <td>64</td>\n",
       "    </tr>\n",
       "    <tr>\n",
       "      <th>7</th>\n",
       "      <td>80050</td>\n",
       "      <td>What's an easy way of making my luggage unique...</td>\n",
       "      <td>72</td>\n",
       "      <td>16</td>\n",
       "      <td>56</td>\n",
       "    </tr>\n",
       "  </tbody>\n",
       "</table>\n",
       "</div>"
      ],
      "text/plain": [
       "      Id                                              Title  MaxScore  \\\n",
       "0  99713  In Germany, what are you supposed to do if you...       126   \n",
       "1  81376  What is way to eat rice with hands in front of...       120   \n",
       "2  76737  Why do many countries in the world still requi...       118   \n",
       "3  38177  How do you know if Americans genuinely/literal...       245   \n",
       "4  90636  Caught speeding 111 Mph (179 km/h) in Californ...       101   \n",
       "5  81492  Why is international first class much more exp...        90   \n",
       "6  94320    Strange looking region of France on Google Maps        71   \n",
       "7  80050  What's an easy way of making my luggage unique...        72   \n",
       "\n",
       "   AcceptedScore  Difference  \n",
       "0             33          93  \n",
       "1             30          90  \n",
       "2             31          87  \n",
       "3            166          79  \n",
       "4             25          76  \n",
       "5             21          69  \n",
       "6              7          64  \n",
       "7             16          56  "
      ]
     },
     "execution_count": 43,
     "metadata": {},
     "output_type": "execute_result"
    }
   ],
   "source": [
    "pd_result5"
   ]
  },
  {
   "cell_type": "markdown",
   "metadata": {},
   "source": [
    "### 5.5 Porównianie czasów wykonań zapytań"
   ]
  },
  {
   "cell_type": "markdown",
   "metadata": {},
   "source": [
    "Średni czas wykonania zapytania SQL dla 5 prób:"
   ]
  },
  {
   "cell_type": "code",
   "execution_count": 44,
   "metadata": {},
   "outputs": [
    {
     "data": {
      "text/plain": [
       "1.176358300000004"
      ]
     },
     "execution_count": 44,
     "metadata": {},
     "output_type": "execute_result"
    }
   ],
   "source": [
    "timeit(lambda: get_sql_dataframe(query5), number=5)"
   ]
  },
  {
   "cell_type": "markdown",
   "metadata": {},
   "source": [
    "Średni czas wykonania zapytania za pomocą funkcji pandas dla 5 prób:"
   ]
  },
  {
   "cell_type": "code",
   "execution_count": 45,
   "metadata": {},
   "outputs": [
    {
     "data": {
      "text/plain": [
       "1.7329952999999705"
      ]
     },
     "execution_count": 45,
     "metadata": {},
     "output_type": "execute_result"
    }
   ],
   "source": [
    "timeit(lambda: get_pandas_dataframe_5(), number=5)"
   ]
  },
  {
   "cell_type": "markdown",
   "metadata": {},
   "source": [
    "W ostatnim przypadku średni czas wykonania zapytania za pomocą funkcji z pakietu pandas jest dłuższy niż wywołanie SQL. "
   ]
  },
  {
   "cell_type": "markdown",
   "metadata": {},
   "source": [
    "## Podsumowanie"
   ]
  },
  {
   "cell_type": "markdown",
   "metadata": {},
   "source": [
    "Wszystkie zaimplementowane funkcje wykorzystujące metody z pakietu pandas zwracają poprawne ramki danych. W 4 na 5 przypadków ich średnie czasy wykonania są krótsze niż wywołanie metody read_sql_query dla danego zapytania SQL. "
   ]
  },
  {
   "cell_type": "markdown",
   "metadata": {},
   "source": [
    "Na koniec pozostaje zamknąć połączenie do wykorzystywanej bazy danych:"
   ]
  },
  {
   "cell_type": "code",
   "execution_count": 46,
   "metadata": {},
   "outputs": [],
   "source": [
    "# zamknięcie połączenia do bazy danych\n",
    "conn.close()"
   ]
  }
 ],
 "metadata": {
  "kernelspec": {
   "display_name": "Python 3",
   "language": "python",
   "name": "python3"
  },
  "language_info": {
   "codemirror_mode": {
    "name": "ipython",
    "version": 3
   },
   "file_extension": ".py",
   "mimetype": "text/x-python",
   "name": "python",
   "nbconvert_exporter": "python",
   "pygments_lexer": "ipython3",
   "version": "3.7.1"
  }
 },
 "nbformat": 4,
 "nbformat_minor": 4
}
